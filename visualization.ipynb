{
 "cells": [
  {
   "cell_type": "code",
   "execution_count": 1,
   "id": "779da1ae",
   "metadata": {},
   "outputs": [],
   "source": [
    "from utils import *"
   ]
  },
  {
   "cell_type": "markdown",
   "id": "27b7ad17",
   "metadata": {},
   "source": [
    "### Percolation probability"
   ]
  },
  {
   "cell_type": "markdown",
   "id": "c57c7b23",
   "metadata": {},
   "source": [
    "When infection which started at the bottom of the system reaches on the top of it, we regard this trial as\n",
    "percolated, and define the percolation probability as the ratio of percolated trials to total trials.\n",
    "\n",
    "Show the dependence of the percolation probability (p) on the density p * pi * r0^2 for several values of lambda"
   ]
  },
  {
   "cell_type": "code",
   "execution_count": null,
   "id": "cdf610b2",
   "metadata": {},
   "outputs": [],
   "source": [
    "N_pop = 200\n"
   ]
  },
  {
   "cell_type": "code",
   "execution_count": null,
   "id": "72589d8d",
   "metadata": {},
   "outputs": [
    {
     "name": "stdout",
     "output_type": "stream",
     "text": [
      "N=477, r0_normal=1.00, Calculated L=10.00 for density param=15.0\n"
     ]
    }
   ],
   "source": [
    "N_pop = 477 # From Fig 15 caption\n",
    "# rho*pi*r0^2 = 15.0 (from Fig 15 caption)\n",
    "# rho = N / L^2\n",
    "# N / L^2 * pi * r0^2 = 15.0\n",
    "# Let r0_normal_val = 1.0 for simplicity in relative scaling\n",
    "# Then N / L^2 * pi = 15.0\n",
    "# L^2 = N * pi / 15.0\n",
    "# L = sqrt(N * pi / 15.0)\n",
    "\n",
    "r0_normal_val = 1.0 # Let's use r0 as a unit length\n",
    "target_density_param = 15.0 # This is rho * pi * r0^2\n",
    "\n",
    "L_val = np.sqrt(N_pop * np.pi * r0_normal_val**2 / target_density_param)\n",
    "print(f\"N={N_pop}, r0_normal={r0_normal_val:.2f}, Calculated L={L_val:.2f} for density param={target_density_param}\")\n"
   ]
  }
 ],
 "metadata": {
  "kernelspec": {
   "display_name": "Python 3",
   "language": "python",
   "name": "python3"
  },
  "language_info": {
   "codemirror_mode": {
    "name": "ipython",
    "version": 3
   },
   "file_extension": ".py",
   "mimetype": "text/x-python",
   "name": "python",
   "nbconvert_exporter": "python",
   "pygments_lexer": "ipython3",
   "version": "3.11.5"
  }
 },
 "nbformat": 4,
 "nbformat_minor": 5
}
